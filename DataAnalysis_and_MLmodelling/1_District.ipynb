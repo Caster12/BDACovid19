{
 "cells": [
  {
   "cell_type": "markdown",
   "source": "# Choropleth map of Red, Orange and Green zones in India\n",
   "metadata": {
    "cell_id": "00000-c0218c24-c361-4375-b47b-53ca35aaf942",
    "deepnote_cell_type": "markdown"
   }
  },
  {
   "cell_type": "markdown",
   "source": "### Import basic libraries\n",
   "metadata": {
    "cell_id": "00001-88e21986-9403-47a1-bc3c-3c0c00362a01",
    "deepnote_cell_type": "markdown"
   }
  },
  {
   "cell_type": "code",
   "metadata": {
    "tags": [],
    "cell_id": "00002-15a908a0-2b07-4433-a90d-d3a5d69bd405",
    "deepnote_to_be_reexecuted": false,
    "source_hash": "776af362",
    "execution_start": 1621433985157,
    "execution_millis": 5929,
    "deepnote_cell_type": "code"
   },
   "source": "!pip install geopandas",
   "execution_count": null,
   "outputs": [
    {
     "name": "stdout",
     "text": "Requirement already satisfied: geopandas in /root/venv/lib/python3.7/site-packages (0.9.0)\nRequirement already satisfied: shapely>=1.6 in /root/venv/lib/python3.7/site-packages (from geopandas) (1.7.1)\nRequirement already satisfied: pandas>=0.24.0 in /shared-libs/python3.7/py/lib/python3.7/site-packages (from geopandas) (1.2.4)\nRequirement already satisfied: pyproj>=2.2.0 in /root/venv/lib/python3.7/site-packages (from geopandas) (3.0.1)\nRequirement already satisfied: fiona>=1.8 in /shared-libs/python3.7/py/lib/python3.7/site-packages (from geopandas) (1.8.19)\nRequirement already satisfied: click<8,>=4.0 in /shared-libs/python3.7/py/lib/python3.7/site-packages (from fiona>=1.8->geopandas) (7.1.2)\nRequirement already satisfied: certifi in /shared-libs/python3.7/py/lib/python3.7/site-packages (from fiona>=1.8->geopandas) (2020.12.5)\nRequirement already satisfied: cligj>=0.5 in /shared-libs/python3.7/py/lib/python3.7/site-packages (from fiona>=1.8->geopandas) (0.7.1)\nRequirement already satisfied: munch in /shared-libs/python3.7/py/lib/python3.7/site-packages (from fiona>=1.8->geopandas) (2.5.0)\nRequirement already satisfied: click-plugins>=1.0 in /shared-libs/python3.7/py/lib/python3.7/site-packages (from fiona>=1.8->geopandas) (1.1.1)\nRequirement already satisfied: six>=1.7 in /shared-libs/python3.7/py-core/lib/python3.7/site-packages (from fiona>=1.8->geopandas) (1.16.0)\nRequirement already satisfied: attrs>=17 in /shared-libs/python3.7/py-core/lib/python3.7/site-packages (from fiona>=1.8->geopandas) (20.3.0)\nRequirement already satisfied: python-dateutil>=2.7.3 in /shared-libs/python3.7/py-core/lib/python3.7/site-packages (from pandas>=0.24.0->geopandas) (2.8.1)\nRequirement already satisfied: pytz>=2017.3 in /shared-libs/python3.7/py/lib/python3.7/site-packages (from pandas>=0.24.0->geopandas) (2021.1)\nRequirement already satisfied: numpy>=1.16.5 in /shared-libs/python3.7/py/lib/python3.7/site-packages (from pandas>=0.24.0->geopandas) (1.19.5)\n",
     "output_type": "stream"
    }
   ]
  },
  {
   "cell_type": "code",
   "metadata": {
    "cell_id": "00002-7b9f0207-02f4-41a4-a3d1-66b048e7b0b6",
    "deepnote_to_be_reexecuted": false,
    "source_hash": "58fee693",
    "execution_start": 1621433992371,
    "execution_millis": 22,
    "deepnote_cell_type": "code"
   },
   "source": "import geopandas as gpd\nimport pandas as pd",
   "execution_count": null,
   "outputs": []
  },
  {
   "cell_type": "markdown",
   "source": "### Data\n\n#### 1. Covid-19 Patient number Data\n",
   "metadata": {
    "cell_id": "00003-494507c6-82b9-4a8d-aa5d-1081497d2a49",
    "deepnote_cell_type": "markdown"
   }
  },
  {
   "cell_type": "code",
   "metadata": {
    "scrolled": false,
    "cell_id": "00004-8cb92ba5-dfd4-4186-98dc-e85c8ddccc41",
    "deepnote_to_be_reexecuted": false,
    "source_hash": "99498e5",
    "execution_start": 1621433995520,
    "execution_millis": 247,
    "deepnote_cell_type": "code"
   },
   "source": "districtdata = pd.read_csv('https://api.covid19india.org/csv/latest/district_wise.csv')\ndistrictdata.head()",
   "execution_count": null,
   "outputs": [
    {
     "output_type": "execute_result",
     "execution_count": 36,
     "data": {
      "application/vnd.deepnote.dataframe.v2+json": {
       "row_count": 5,
       "column_count": 16,
       "columns": [
        {
         "name": "SlNo",
         "dtype": "int64",
         "stats": {
          "unique_count": 4,
          "nan_count": 0,
          "min": "0",
          "max": "3",
          "histogram": [
           {
            "bin_start": 0,
            "bin_end": 0.3,
            "count": 2
           },
           {
            "bin_start": 0.3,
            "bin_end": 0.6,
            "count": 0
           },
           {
            "bin_start": 0.6,
            "bin_end": 0.8999999999999999,
            "count": 0
           },
           {
            "bin_start": 0.8999999999999999,
            "bin_end": 1.2,
            "count": 1
           },
           {
            "bin_start": 1.2,
            "bin_end": 1.5,
            "count": 0
           },
           {
            "bin_start": 1.5,
            "bin_end": 1.7999999999999998,
            "count": 0
           },
           {
            "bin_start": 1.7999999999999998,
            "bin_end": 2.1,
            "count": 1
           },
           {
            "bin_start": 2.1,
            "bin_end": 2.4,
            "count": 0
           },
           {
            "bin_start": 2.4,
            "bin_end": 2.6999999999999997,
            "count": 0
           },
           {
            "bin_start": 2.6999999999999997,
            "bin_end": 3,
            "count": 1
           }
          ]
         }
        },
        {
         "name": "State_Code",
         "dtype": "object",
         "stats": {
          "unique_count": 3,
          "nan_count": 0,
          "categories": [
           {
            "name": "AN",
            "count": 3
           },
           {
            "name": "UN",
            "count": 1
           },
           {
            "name": "AP",
            "count": 1
           }
          ]
         }
        },
        {
         "name": "State",
         "dtype": "object",
         "stats": {
          "unique_count": 3,
          "nan_count": 0,
          "categories": [
           {
            "name": "Andaman and Nicobar Islands",
            "count": 3
           },
           {
            "name": "State Unassigned",
            "count": 1
           },
           {
            "name": "Andhra Pradesh",
            "count": 1
           }
          ]
         }
        },
        {
         "name": "District_Key",
         "dtype": "object",
         "stats": {
          "unique_count": 5,
          "nan_count": 0,
          "categories": [
           {
            "name": "UN_Unassigned",
            "count": 1
           },
           {
            "name": "AN_Nicobars",
            "count": 1
           },
           {
            "name": "3 others",
            "count": 3
           }
          ]
         }
        },
        {
         "name": "District",
         "dtype": "object",
         "stats": {
          "unique_count": 5,
          "nan_count": 0,
          "categories": [
           {
            "name": "Unassigned",
            "count": 1
           },
           {
            "name": "Nicobars",
            "count": 1
           },
           {
            "name": "3 others",
            "count": 3
           }
          ]
         }
        },
        {
         "name": "Confirmed",
         "dtype": "int64",
         "stats": {
          "unique_count": 4,
          "nan_count": 0,
          "min": "0",
          "max": "434",
          "histogram": [
           {
            "bin_start": 0,
            "bin_end": 43.4,
            "count": 3
           },
           {
            "bin_start": 43.4,
            "bin_end": 86.8,
            "count": 1
           },
           {
            "bin_start": 86.8,
            "bin_end": 130.2,
            "count": 0
           },
           {
            "bin_start": 130.2,
            "bin_end": 173.6,
            "count": 0
           },
           {
            "bin_start": 173.6,
            "bin_end": 217,
            "count": 0
           },
           {
            "bin_start": 217,
            "bin_end": 260.4,
            "count": 0
           },
           {
            "bin_start": 260.4,
            "bin_end": 303.8,
            "count": 0
           },
           {
            "bin_start": 303.8,
            "bin_end": 347.2,
            "count": 0
           },
           {
            "bin_start": 347.2,
            "bin_end": 390.59999999999997,
            "count": 0
           },
           {
            "bin_start": 390.59999999999997,
            "bin_end": 434,
            "count": 1
           }
          ]
         }
        },
        {
         "name": "Active",
         "dtype": "int64",
         "stats": {
          "unique_count": 2,
          "nan_count": 0,
          "min": "0",
          "max": "19",
          "histogram": [
           {
            "bin_start": 0,
            "bin_end": 1.9,
            "count": 4
           },
           {
            "bin_start": 1.9,
            "bin_end": 3.8,
            "count": 0
           },
           {
            "bin_start": 3.8,
            "bin_end": 5.699999999999999,
            "count": 0
           },
           {
            "bin_start": 5.699999999999999,
            "bin_end": 7.6,
            "count": 0
           },
           {
            "bin_start": 7.6,
            "bin_end": 9.5,
            "count": 0
           },
           {
            "bin_start": 9.5,
            "bin_end": 11.399999999999999,
            "count": 0
           },
           {
            "bin_start": 11.399999999999999,
            "bin_end": 13.299999999999999,
            "count": 0
           },
           {
            "bin_start": 13.299999999999999,
            "bin_end": 15.2,
            "count": 0
           },
           {
            "bin_start": 15.2,
            "bin_end": 17.099999999999998,
            "count": 0
           },
           {
            "bin_start": 17.099999999999998,
            "bin_end": 19,
            "count": 1
           }
          ]
         }
        },
        {
         "name": "Recovered",
         "dtype": "int64",
         "stats": {
          "unique_count": 4,
          "nan_count": 0,
          "min": "0",
          "max": "434",
          "histogram": [
           {
            "bin_start": 0,
            "bin_end": 43.4,
            "count": 4
           },
           {
            "bin_start": 43.4,
            "bin_end": 86.8,
            "count": 0
           },
           {
            "bin_start": 86.8,
            "bin_end": 130.2,
            "count": 0
           },
           {
            "bin_start": 130.2,
            "bin_end": 173.6,
            "count": 0
           },
           {
            "bin_start": 173.6,
            "bin_end": 217,
            "count": 0
           },
           {
            "bin_start": 217,
            "bin_end": 260.4,
            "count": 0
           },
           {
            "bin_start": 260.4,
            "bin_end": 303.8,
            "count": 0
           },
           {
            "bin_start": 303.8,
            "bin_end": 347.2,
            "count": 0
           },
           {
            "bin_start": 347.2,
            "bin_end": 390.59999999999997,
            "count": 0
           },
           {
            "bin_start": 390.59999999999997,
            "bin_end": 434,
            "count": 1
           }
          ]
         }
        },
        {
         "name": "Deceased",
         "dtype": "int64",
         "stats": {
          "unique_count": 1,
          "nan_count": 0,
          "min": "0",
          "max": "0",
          "histogram": [
           {
            "bin_start": -0.5,
            "bin_end": -0.4,
            "count": 0
           },
           {
            "bin_start": -0.4,
            "bin_end": -0.3,
            "count": 0
           },
           {
            "bin_start": -0.3,
            "bin_end": -0.19999999999999996,
            "count": 0
           },
           {
            "bin_start": -0.19999999999999996,
            "bin_end": -0.09999999999999998,
            "count": 0
           },
           {
            "bin_start": -0.09999999999999998,
            "bin_end": 0,
            "count": 0
           },
           {
            "bin_start": 0,
            "bin_end": 0.10000000000000009,
            "count": 5
           },
           {
            "bin_start": 0.10000000000000009,
            "bin_end": 0.20000000000000007,
            "count": 0
           },
           {
            "bin_start": 0.20000000000000007,
            "bin_end": 0.30000000000000004,
            "count": 0
           },
           {
            "bin_start": 0.30000000000000004,
            "bin_end": 0.4,
            "count": 0
           },
           {
            "bin_start": 0.4,
            "bin_end": 0.5,
            "count": 0
           }
          ]
         }
        },
        {
         "name": "Migrated_Other",
         "dtype": "int64",
         "stats": {
          "unique_count": 1,
          "nan_count": 0,
          "min": "0",
          "max": "0",
          "histogram": [
           {
            "bin_start": -0.5,
            "bin_end": -0.4,
            "count": 0
           },
           {
            "bin_start": -0.4,
            "bin_end": -0.3,
            "count": 0
           },
           {
            "bin_start": -0.3,
            "bin_end": -0.19999999999999996,
            "count": 0
           },
           {
            "bin_start": -0.19999999999999996,
            "bin_end": -0.09999999999999998,
            "count": 0
           },
           {
            "bin_start": -0.09999999999999998,
            "bin_end": 0,
            "count": 0
           },
           {
            "bin_start": 0,
            "bin_end": 0.10000000000000009,
            "count": 5
           },
           {
            "bin_start": 0.10000000000000009,
            "bin_end": 0.20000000000000007,
            "count": 0
           },
           {
            "bin_start": 0.20000000000000007,
            "bin_end": 0.30000000000000004,
            "count": 0
           },
           {
            "bin_start": 0.30000000000000004,
            "bin_end": 0.4,
            "count": 0
           },
           {
            "bin_start": 0.4,
            "bin_end": 0.5,
            "count": 0
           }
          ]
         }
        },
        {
         "name": "Delta_Confirmed",
         "dtype": "int64",
         "stats": {
          "unique_count": 1,
          "nan_count": 0,
          "min": "0",
          "max": "0",
          "histogram": [
           {
            "bin_start": -0.5,
            "bin_end": -0.4,
            "count": 0
           },
           {
            "bin_start": -0.4,
            "bin_end": -0.3,
            "count": 0
           },
           {
            "bin_start": -0.3,
            "bin_end": -0.19999999999999996,
            "count": 0
           },
           {
            "bin_start": -0.19999999999999996,
            "bin_end": -0.09999999999999998,
            "count": 0
           },
           {
            "bin_start": -0.09999999999999998,
            "bin_end": 0,
            "count": 0
           },
           {
            "bin_start": 0,
            "bin_end": 0.10000000000000009,
            "count": 5
           },
           {
            "bin_start": 0.10000000000000009,
            "bin_end": 0.20000000000000007,
            "count": 0
           },
           {
            "bin_start": 0.20000000000000007,
            "bin_end": 0.30000000000000004,
            "count": 0
           },
           {
            "bin_start": 0.30000000000000004,
            "bin_end": 0.4,
            "count": 0
           },
           {
            "bin_start": 0.4,
            "bin_end": 0.5,
            "count": 0
           }
          ]
         }
        },
        {
         "name": "Delta_Active",
         "dtype": "int64",
         "stats": {
          "unique_count": 1,
          "nan_count": 0,
          "min": "0",
          "max": "0",
          "histogram": [
           {
            "bin_start": -0.5,
            "bin_end": -0.4,
            "count": 0
           },
           {
            "bin_start": -0.4,
            "bin_end": -0.3,
            "count": 0
           },
           {
            "bin_start": -0.3,
            "bin_end": -0.19999999999999996,
            "count": 0
           },
           {
            "bin_start": -0.19999999999999996,
            "bin_end": -0.09999999999999998,
            "count": 0
           },
           {
            "bin_start": -0.09999999999999998,
            "bin_end": 0,
            "count": 0
           },
           {
            "bin_start": 0,
            "bin_end": 0.10000000000000009,
            "count": 5
           },
           {
            "bin_start": 0.10000000000000009,
            "bin_end": 0.20000000000000007,
            "count": 0
           },
           {
            "bin_start": 0.20000000000000007,
            "bin_end": 0.30000000000000004,
            "count": 0
           },
           {
            "bin_start": 0.30000000000000004,
            "bin_end": 0.4,
            "count": 0
           },
           {
            "bin_start": 0.4,
            "bin_end": 0.5,
            "count": 0
           }
          ]
         }
        },
        {
         "name": "Delta_Recovered",
         "dtype": "int64",
         "stats": {
          "unique_count": 1,
          "nan_count": 0,
          "min": "0",
          "max": "0",
          "histogram": [
           {
            "bin_start": -0.5,
            "bin_end": -0.4,
            "count": 0
           },
           {
            "bin_start": -0.4,
            "bin_end": -0.3,
            "count": 0
           },
           {
            "bin_start": -0.3,
            "bin_end": -0.19999999999999996,
            "count": 0
           },
           {
            "bin_start": -0.19999999999999996,
            "bin_end": -0.09999999999999998,
            "count": 0
           },
           {
            "bin_start": -0.09999999999999998,
            "bin_end": 0,
            "count": 0
           },
           {
            "bin_start": 0,
            "bin_end": 0.10000000000000009,
            "count": 5
           },
           {
            "bin_start": 0.10000000000000009,
            "bin_end": 0.20000000000000007,
            "count": 0
           },
           {
            "bin_start": 0.20000000000000007,
            "bin_end": 0.30000000000000004,
            "count": 0
           },
           {
            "bin_start": 0.30000000000000004,
            "bin_end": 0.4,
            "count": 0
           },
           {
            "bin_start": 0.4,
            "bin_end": 0.5,
            "count": 0
           }
          ]
         }
        },
        {
         "name": "Delta_Deceased",
         "dtype": "int64",
         "stats": {
          "unique_count": 1,
          "nan_count": 0,
          "min": "0",
          "max": "0",
          "histogram": [
           {
            "bin_start": -0.5,
            "bin_end": -0.4,
            "count": 0
           },
           {
            "bin_start": -0.4,
            "bin_end": -0.3,
            "count": 0
           },
           {
            "bin_start": -0.3,
            "bin_end": -0.19999999999999996,
            "count": 0
           },
           {
            "bin_start": -0.19999999999999996,
            "bin_end": -0.09999999999999998,
            "count": 0
           },
           {
            "bin_start": -0.09999999999999998,
            "bin_end": 0,
            "count": 0
           },
           {
            "bin_start": 0,
            "bin_end": 0.10000000000000009,
            "count": 5
           },
           {
            "bin_start": 0.10000000000000009,
            "bin_end": 0.20000000000000007,
            "count": 0
           },
           {
            "bin_start": 0.20000000000000007,
            "bin_end": 0.30000000000000004,
            "count": 0
           },
           {
            "bin_start": 0.30000000000000004,
            "bin_end": 0.4,
            "count": 0
           },
           {
            "bin_start": 0.4,
            "bin_end": 0.5,
            "count": 0
           }
          ]
         }
        },
        {
         "name": "District_Notes",
         "dtype": "object",
         "stats": {
          "unique_count": 1,
          "nan_count": 2,
          "categories": [
           {
            "name": "District-wise numbers are out-dated as cumulative counts for each district are not reported in bulletin",
            "count": 3
           },
           {
            "name": "Missing",
            "count": 2
           }
          ]
         }
        },
        {
         "name": "Last_Updated",
         "dtype": "float64",
         "stats": {
          "unique_count": 0,
          "nan_count": 5,
          "min": null,
          "max": null,
          "histogram": [
           {
            "bin_start": 0,
            "bin_end": 0.1,
            "count": 0
           },
           {
            "bin_start": 0.1,
            "bin_end": 0.2,
            "count": 0
           },
           {
            "bin_start": 0.2,
            "bin_end": 0.30000000000000004,
            "count": 0
           },
           {
            "bin_start": 0.30000000000000004,
            "bin_end": 0.4,
            "count": 0
           },
           {
            "bin_start": 0.4,
            "bin_end": 0.5,
            "count": 0
           },
           {
            "bin_start": 0.5,
            "bin_end": 0.6000000000000001,
            "count": 0
           },
           {
            "bin_start": 0.6000000000000001,
            "bin_end": 0.7000000000000001,
            "count": 0
           },
           {
            "bin_start": 0.7000000000000001,
            "bin_end": 0.8,
            "count": 0
           },
           {
            "bin_start": 0.8,
            "bin_end": 0.9,
            "count": 0
           },
           {
            "bin_start": 0.9,
            "bin_end": 1,
            "count": 0
           }
          ]
         }
        },
        {
         "name": "_deepnote_index_column",
         "dtype": "int64"
        }
       ],
       "rows_top": [
        {
         "SlNo": 0,
         "State_Code": "UN",
         "State": "State Unassigned",
         "District_Key": "UN_Unassigned",
         "District": "Unassigned",
         "Confirmed": 0,
         "Active": 0,
         "Recovered": 0,
         "Deceased": 0,
         "Migrated_Other": 0,
         "Delta_Confirmed": 0,
         "Delta_Active": 0,
         "Delta_Recovered": 0,
         "Delta_Deceased": 0,
         "District_Notes": "nan",
         "Last_Updated": "nan",
         "_deepnote_index_column": 0
        },
        {
         "SlNo": 1,
         "State_Code": "AN",
         "State": "Andaman and Nicobar Islands",
         "District_Key": "AN_Nicobars",
         "District": "Nicobars",
         "Confirmed": 0,
         "Active": 0,
         "Recovered": 0,
         "Deceased": 0,
         "Migrated_Other": 0,
         "Delta_Confirmed": 0,
         "Delta_Active": 0,
         "Delta_Recovered": 0,
         "Delta_Deceased": 0,
         "District_Notes": "District-wise numbers are out-dated as cumulative counts for each district are not reported in bulletin",
         "Last_Updated": "nan",
         "_deepnote_index_column": 1
        },
        {
         "SlNo": 2,
         "State_Code": "AN",
         "State": "Andaman and Nicobar Islands",
         "District_Key": "AN_North and Middle Andaman",
         "District": "North and Middle Andaman",
         "Confirmed": 1,
         "Active": 0,
         "Recovered": 1,
         "Deceased": 0,
         "Migrated_Other": 0,
         "Delta_Confirmed": 0,
         "Delta_Active": 0,
         "Delta_Recovered": 0,
         "Delta_Deceased": 0,
         "District_Notes": "District-wise numbers are out-dated as cumulative counts for each district are not reported in bulletin",
         "Last_Updated": "nan",
         "_deepnote_index_column": 2
        },
        {
         "SlNo": 3,
         "State_Code": "AN",
         "State": "Andaman and Nicobar Islands",
         "District_Key": "AN_South Andaman",
         "District": "South Andaman",
         "Confirmed": 51,
         "Active": 19,
         "Recovered": 32,
         "Deceased": 0,
         "Migrated_Other": 0,
         "Delta_Confirmed": 0,
         "Delta_Active": 0,
         "Delta_Recovered": 0,
         "Delta_Deceased": 0,
         "District_Notes": "District-wise numbers are out-dated as cumulative counts for each district are not reported in bulletin",
         "Last_Updated": "nan",
         "_deepnote_index_column": 3
        },
        {
         "SlNo": 0,
         "State_Code": "AP",
         "State": "Andhra Pradesh",
         "District_Key": "AP_Foreign Evacuees",
         "District": "Foreign Evacuees",
         "Confirmed": 434,
         "Active": 0,
         "Recovered": 434,
         "Deceased": 0,
         "Migrated_Other": 0,
         "Delta_Confirmed": 0,
         "Delta_Active": 0,
         "Delta_Recovered": 0,
         "Delta_Deceased": 0,
         "District_Notes": "nan",
         "Last_Updated": "nan",
         "_deepnote_index_column": 4
        }
       ],
       "rows_bottom": null
      },
      "text/plain": "   SlNo State_Code                        State                 District_Key  \\\n0     0         UN             State Unassigned                UN_Unassigned   \n1     1         AN  Andaman and Nicobar Islands                  AN_Nicobars   \n2     2         AN  Andaman and Nicobar Islands  AN_North and Middle Andaman   \n3     3         AN  Andaman and Nicobar Islands             AN_South Andaman   \n4     0         AP               Andhra Pradesh          AP_Foreign Evacuees   \n\n                   District  Confirmed  Active  Recovered  Deceased  \\\n0                Unassigned          0       0          0         0   \n1                  Nicobars          0       0          0         0   \n2  North and Middle Andaman          1       0          1         0   \n3             South Andaman         51      19         32         0   \n4          Foreign Evacuees        434       0        434         0   \n\n   Migrated_Other  Delta_Confirmed  Delta_Active  Delta_Recovered  \\\n0               0                0             0                0   \n1               0                0             0                0   \n2               0                0             0                0   \n3               0                0             0                0   \n4               0                0             0                0   \n\n   Delta_Deceased                                     District_Notes  \\\n0               0                                                NaN   \n1               0  District-wise numbers are out-dated as cumulat...   \n2               0  District-wise numbers are out-dated as cumulat...   \n3               0  District-wise numbers are out-dated as cumulat...   \n4               0                                                NaN   \n\n   Last_Updated  \n0           NaN  \n1           NaN  \n2           NaN  \n3           NaN  \n4           NaN  ",
      "text/html": "<div>\n<style scoped>\n    .dataframe tbody tr th:only-of-type {\n        vertical-align: middle;\n    }\n\n    .dataframe tbody tr th {\n        vertical-align: top;\n    }\n\n    .dataframe thead th {\n        text-align: right;\n    }\n</style>\n<table border=\"1\" class=\"dataframe\">\n  <thead>\n    <tr style=\"text-align: right;\">\n      <th></th>\n      <th>SlNo</th>\n      <th>State_Code</th>\n      <th>State</th>\n      <th>District_Key</th>\n      <th>District</th>\n      <th>Confirmed</th>\n      <th>Active</th>\n      <th>Recovered</th>\n      <th>Deceased</th>\n      <th>Migrated_Other</th>\n      <th>Delta_Confirmed</th>\n      <th>Delta_Active</th>\n      <th>Delta_Recovered</th>\n      <th>Delta_Deceased</th>\n      <th>District_Notes</th>\n      <th>Last_Updated</th>\n    </tr>\n  </thead>\n  <tbody>\n    <tr>\n      <th>0</th>\n      <td>0</td>\n      <td>UN</td>\n      <td>State Unassigned</td>\n      <td>UN_Unassigned</td>\n      <td>Unassigned</td>\n      <td>0</td>\n      <td>0</td>\n      <td>0</td>\n      <td>0</td>\n      <td>0</td>\n      <td>0</td>\n      <td>0</td>\n      <td>0</td>\n      <td>0</td>\n      <td>NaN</td>\n      <td>NaN</td>\n    </tr>\n    <tr>\n      <th>1</th>\n      <td>1</td>\n      <td>AN</td>\n      <td>Andaman and Nicobar Islands</td>\n      <td>AN_Nicobars</td>\n      <td>Nicobars</td>\n      <td>0</td>\n      <td>0</td>\n      <td>0</td>\n      <td>0</td>\n      <td>0</td>\n      <td>0</td>\n      <td>0</td>\n      <td>0</td>\n      <td>0</td>\n      <td>District-wise numbers are out-dated as cumulat...</td>\n      <td>NaN</td>\n    </tr>\n    <tr>\n      <th>2</th>\n      <td>2</td>\n      <td>AN</td>\n      <td>Andaman and Nicobar Islands</td>\n      <td>AN_North and Middle Andaman</td>\n      <td>North and Middle Andaman</td>\n      <td>1</td>\n      <td>0</td>\n      <td>1</td>\n      <td>0</td>\n      <td>0</td>\n      <td>0</td>\n      <td>0</td>\n      <td>0</td>\n      <td>0</td>\n      <td>District-wise numbers are out-dated as cumulat...</td>\n      <td>NaN</td>\n    </tr>\n    <tr>\n      <th>3</th>\n      <td>3</td>\n      <td>AN</td>\n      <td>Andaman and Nicobar Islands</td>\n      <td>AN_South Andaman</td>\n      <td>South Andaman</td>\n      <td>51</td>\n      <td>19</td>\n      <td>32</td>\n      <td>0</td>\n      <td>0</td>\n      <td>0</td>\n      <td>0</td>\n      <td>0</td>\n      <td>0</td>\n      <td>District-wise numbers are out-dated as cumulat...</td>\n      <td>NaN</td>\n    </tr>\n    <tr>\n      <th>4</th>\n      <td>0</td>\n      <td>AP</td>\n      <td>Andhra Pradesh</td>\n      <td>AP_Foreign Evacuees</td>\n      <td>Foreign Evacuees</td>\n      <td>434</td>\n      <td>0</td>\n      <td>434</td>\n      <td>0</td>\n      <td>0</td>\n      <td>0</td>\n      <td>0</td>\n      <td>0</td>\n      <td>0</td>\n      <td>NaN</td>\n      <td>NaN</td>\n    </tr>\n  </tbody>\n</table>\n</div>"
     },
     "metadata": {}
    }
   ]
  },
  {
   "cell_type": "markdown",
   "source": "#### 2. India District Shapefile\n",
   "metadata": {
    "cell_id": "00005-8e043bda-898f-4b62-b1e0-d6b5721e865b",
    "deepnote_cell_type": "markdown"
   }
  },
  {
   "cell_type": "code",
   "metadata": {
    "cell_id": "00006-00224ba9-f232-4304-bc60-4fc9a0139ae8",
    "deepnote_to_be_reexecuted": false,
    "source_hash": "c871c93b",
    "execution_start": 1621433999687,
    "execution_millis": 2520,
    "deepnote_cell_type": "code"
   },
   "source": "df1 = gpd.read_file('/work/CovidIndia-master/CovidIndia-master/India_Districts/c44c9b96-f570-4ee3-97f1-ebad64efa4c2202044-1-1rb4x6s.8xx6.shp')",
   "execution_count": null,
   "outputs": []
  },
  {
   "cell_type": "code",
   "metadata": {
    "cell_id": "00007-9d540ed8-e496-4c2c-8bce-aafcd2f2dcf2",
    "deepnote_to_be_reexecuted": false,
    "source_hash": "a46244db",
    "execution_start": 1621434004046,
    "execution_millis": 2447,
    "deepnote_cell_type": "code"
   },
   "source": "## showing the India map based on the shapefile... See the districts boundary\ndf1.plot(figsize = (8,8))",
   "execution_count": null,
   "outputs": [
    {
     "output_type": "execute_result",
     "execution_count": 38,
     "data": {
      "text/plain": "<AxesSubplot:>"
     },
     "metadata": {}
    },
    {
     "data": {
      "text/plain": "<Figure size 576x576 with 1 Axes>",
      "image/png": "[encoded data removed]"
     },
     "metadata": {
      "needs_background": "light",
      "image/png": {
       "width": 424,
       "height": 466
      }
     },
     "output_type": "display_data"
    }
   ]
  },
  {
   "cell_type": "markdown",
   "source": "#### 3. Districtwise zone data\n",
   "metadata": {
    "cell_id": "00008-ddb8883b-99af-4b12-9ae1-27a693b34a6c",
    "deepnote_cell_type": "markdown"
   }
  },
  {
   "cell_type": "code",
   "metadata": {
    "scrolled": true,
    "cell_id": "00009-fdca1f4d-7a52-41b3-a266-0d38efdab48a",
    "deepnote_to_be_reexecuted": false,
    "source_hash": "d89fdeb3",
    "execution_start": 1621434024241,
    "execution_millis": 125,
    "deepnote_cell_type": "code"
   },
   "source": "zones = pd.read_csv('/work/CovidIndia-master/CovidIndia-master/Zones in India.csv')\n\nzones.head()",
   "execution_count": null,
   "outputs": [
    {
     "output_type": "execute_result",
     "execution_count": 39,
     "data": {
      "application/vnd.deepnote.dataframe.v2+json": {
       "row_count": 5,
       "column_count": 4,
       "columns": [
        {
         "name": "No",
         "dtype": "int64",
         "stats": {
          "unique_count": 5,
          "nan_count": 0,
          "min": "1",
          "max": "5",
          "histogram": [
           {
            "bin_start": 1,
            "bin_end": 1.4,
            "count": 1
           },
           {
            "bin_start": 1.4,
            "bin_end": 1.8,
            "count": 0
           },
           {
            "bin_start": 1.8,
            "bin_end": 2.2,
            "count": 1
           },
           {
            "bin_start": 2.2,
            "bin_end": 2.6,
            "count": 0
           },
           {
            "bin_start": 2.6,
            "bin_end": 3,
            "count": 0
           },
           {
            "bin_start": 3,
            "bin_end": 3.4000000000000004,
            "count": 1
           },
           {
            "bin_start": 3.4000000000000004,
            "bin_end": 3.8000000000000003,
            "count": 0
           },
           {
            "bin_start": 3.8000000000000003,
            "bin_end": 4.2,
            "count": 1
           },
           {
            "bin_start": 4.2,
            "bin_end": 4.6,
            "count": 0
           },
           {
            "bin_start": 4.6,
            "bin_end": 5,
            "count": 1
           }
          ]
         }
        },
        {
         "name": "District",
         "dtype": "object",
         "stats": {
          "unique_count": 5,
          "nan_count": 0,
          "categories": [
           {
            "name": "South Andaman",
            "count": 1
           },
           {
            "name": "Nicobars",
            "count": 1
           },
           {
            "name": "3 others",
            "count": 3
           }
          ]
         }
        },
        {
         "name": "State",
         "dtype": "object",
         "stats": {
          "unique_count": 2,
          "nan_count": 0,
          "categories": [
           {
            "name": "Andaman and Nicobar Islands",
            "count": 3
           },
           {
            "name": "Andhra Pradesh",
            "count": 2
           }
          ]
         }
        },
        {
         "name": "Zone",
         "dtype": "object",
         "stats": {
          "unique_count": 2,
          "nan_count": 0,
          "categories": [
           {
            "name": "Red",
            "count": 3
           },
           {
            "name": "Green",
            "count": 2
           }
          ]
         }
        },
        {
         "name": "_deepnote_index_column",
         "dtype": "int64"
        }
       ],
       "rows_top": [
        {
         "No": 1,
         "District": "South Andaman",
         "State": "Andaman and Nicobar Islands",
         "Zone": "Red",
         "_deepnote_index_column": 0
        },
        {
         "No": 2,
         "District": "Nicobars",
         "State": "Andaman and Nicobar Islands",
         "Zone": "Green",
         "_deepnote_index_column": 1
        },
        {
         "No": 3,
         "District": "North and Middle Andaman",
         "State": "Andaman and Nicobar Islands",
         "Zone": "Green",
         "_deepnote_index_column": 2
        },
        {
         "No": 4,
         "District": "Kurnool",
         "State": "Andhra Pradesh",
         "Zone": "Red",
         "_deepnote_index_column": 3
        },
        {
         "No": 5,
         "District": "Guntur",
         "State": "Andhra Pradesh",
         "Zone": "Red",
         "_deepnote_index_column": 4
        }
       ],
       "rows_bottom": null
      },
      "text/plain": "   No                  District                        State   Zone\n0   1             South Andaman  Andaman and Nicobar Islands    Red\n1   2                  Nicobars  Andaman and Nicobar Islands  Green\n2   3  North and Middle Andaman  Andaman and Nicobar Islands  Green\n3   4                   Kurnool               Andhra Pradesh    Red\n4   5                    Guntur               Andhra Pradesh    Red",
      "text/html": "<div>\n<style scoped>\n    .dataframe tbody tr th:only-of-type {\n        vertical-align: middle;\n    }\n\n    .dataframe tbody tr th {\n        vertical-align: top;\n    }\n\n    .dataframe thead th {\n        text-align: right;\n    }\n</style>\n<table border=\"1\" class=\"dataframe\">\n  <thead>\n    <tr style=\"text-align: right;\">\n      <th></th>\n      <th>No</th>\n      <th>District</th>\n      <th>State</th>\n      <th>Zone</th>\n    </tr>\n  </thead>\n  <tbody>\n    <tr>\n      <th>0</th>\n      <td>1</td>\n      <td>South Andaman</td>\n      <td>Andaman and Nicobar Islands</td>\n      <td>Red</td>\n    </tr>\n    <tr>\n      <th>1</th>\n      <td>2</td>\n      <td>Nicobars</td>\n      <td>Andaman and Nicobar Islands</td>\n      <td>Green</td>\n    </tr>\n    <tr>\n      <th>2</th>\n      <td>3</td>\n      <td>North and Middle Andaman</td>\n      <td>Andaman and Nicobar Islands</td>\n      <td>Green</td>\n    </tr>\n    <tr>\n      <th>3</th>\n      <td>4</td>\n      <td>Kurnool</td>\n      <td>Andhra Pradesh</td>\n      <td>Red</td>\n    </tr>\n    <tr>\n      <th>4</th>\n      <td>5</td>\n      <td>Guntur</td>\n      <td>Andhra Pradesh</td>\n      <td>Red</td>\n    </tr>\n  </tbody>\n</table>\n</div>"
     },
     "metadata": {}
    }
   ]
  },
  {
   "cell_type": "markdown",
   "source": "### Data Cleaning",
   "metadata": {
    "cell_id": "00010-cf3d7c00-5894-4b82-8aa1-1ba0069e0672",
    "deepnote_cell_type": "markdown"
   }
  },
  {
   "cell_type": "code",
   "metadata": {
    "cell_id": "00011-0bd18de8-4a29-4f0f-a5fb-6018b59ba791",
    "deepnote_to_be_reexecuted": false,
    "source_hash": "e563b367",
    "execution_start": 1621434029186,
    "execution_millis": 212,
    "deepnote_cell_type": "code"
   },
   "source": "# Capitalizing the first letter of the state names \nfor i in range(df1.shape[0]): df1['statename'][i] = df1['statename'][i].title()\n\n# Correcting the state and UT names\ndf1['statename'].replace({'Andaman & Nicobar': 'Andaman and Nicobar Islands', \n                          'Dadra & Nagar Have': 'Dadra and Nagar Haveli and Daman and Diu',\n                          'Daman & Diu' : 'Dadra and Nagar Haveli and Daman and Diu',\n                          'Jammu & Kashmir' : 'Jammu and Kashmir'}, inplace=True)\n\n",
   "execution_count": null,
   "outputs": [
    {
     "name": "stderr",
     "text": "/shared-libs/python3.7/py-core/lib/python3.7/site-packages/ipykernel_launcher.py:2: SettingWithCopyWarning: \nA value is trying to be set on a copy of a slice from a DataFrame\n\nSee the caveats in the documentation: https://pandas.pydata.org/pandas-docs/stable/user_guide/indexing.html#returning-a-view-versus-a-copy\n  \n",
     "output_type": "stream"
    }
   ]
  },
  {
   "cell_type": "markdown",
   "source": "Correcting the spellings of districts in the dataframe made from shapefile and changing some column names",
   "metadata": {
    "cell_id": "00012-67eb1096-022b-4de9-9a10-40b66cd47d6f",
    "deepnote_cell_type": "markdown"
   }
  },
  {
   "cell_type": "code",
   "metadata": {
    "cell_id": "00013-3e0f359b-9693-4ccc-895e-e4197f697754",
    "deepnote_to_be_reexecuted": false,
    "source_hash": "d7971c8",
    "execution_start": 1621434034054,
    "execution_millis": 107,
    "deepnote_cell_type": "code"
   },
   "source": "# Spelling correction\ndf1['distname'].replace({'Baramula' : 'Baramulla',\n                         'Bandipore' : 'Bandipora',\n                         'Badgam' : 'Budgam',\n                         'Shupiyan' : 'Shopiyan',\n                         'Sahibzada Ajit Singh Nag*' : 'S.A.S. Nagar',\n                         'Firozpur': 'Ferozepur',\n                         'Lahul & Spiti' : 'Lahaul and Spiti',\n                         'Charki Dadri': 'Charkhi Dadri',\n                         'Central' : 'Central Delhi',\n                         'East' : 'East Delhi',\n                         'North' : 'North Delhi', \n                         'South West' : 'South West Delhi', \n                         'South' : 'South Delhi', \n                         'North East' : 'North East Delhi', \n                         'West' : 'West Delhi', \n                         'South East': 'South East Delhi', \n                         'North West' : 'North West Delhi',\n                         'Jhunjhunun': 'Jhunjhunu', \n                         'Jalor' : 'Jalore', \n                         'Chittaurgarh' : 'Chittorgarh', \n                         'Dhaulpur': 'Dholpur',\n                         'Chota Udaipur': 'Chhota Udaipur', \n                         'Kachchh' : 'Kutch', \n                         'The Dangs' : 'Dang', \n                         'Banas Kantha' : 'Banaskantha', \n                         'Ahmadabad' : 'Ahmedabad', \n                         'Sabar Kantha' : 'Sabarkantha', \n                         'Dohad' : 'Dahod', \n                         'Mahesana' : 'Mehsana', \n                         'Panch Mahals' : 'Panchmahal', \n                         'Faizabad' : 'Ayodhya', \n                         'Kheri' : 'Lakhimpur Kheri', \n                         'Bara Banki': 'Barabanki', \n                         'Mahrajganj' : 'Maharajganj',\n                         'Pashchim Champaran': 'West Champaran', \n                         'Kaimur (bhabua)': 'Kaimur', \n                         'Purba Champaran': 'East Champaran',\n                         'Purbi Singhbhum': 'East Singhbhum', \n                         'Pashchimi Singhbhum': 'West Singhbhum', \n                         'Saraikela-kharsawan': 'Saraikela-Kharsawan', \n                         'Kodarma': 'Koderma',\n                         'Narsimhapur': 'Narsinghpur', \n                         'West Nimar': 'Khargone', \n                         'East Nimar': 'Khandwa',\n                         'Janjgir - Champa' : 'Janjgir Champa',\n                         'Almora\\n': 'Almora',\n                         'Garhwal': 'Pauri Garhwal', \n                         'Hardwar': 'Haridwar', \n                         'Darjiling': 'Darjeeling', \n                         'Maldah' : 'Malda', \n                         'North Twenty Four Pargan*' : 'North 24 Parganas', \n                         'Medinipur West' : 'Paschim Medinipur', \n                         'Puruliya': 'Purulia', \n                         'South Twenty Four Pargan*' : 'South 24 Parganas',\n                         'North  District': 'North District',\n                         'South Salmara Mancachar': 'South Salmara Mankachar',\n                         'Anugul': 'Angul', \n                         'Jajapur': 'Jajpur', \n                         'Jagatsinghapur' : 'Jagatsinghpur', \n                         'Baleshwar': 'Balasore', \n                         'Baudh': 'Boudh', \n                         'Debagarh' : 'Deogarh',\n                         'Ahmadnagar' : 'Ahmednagar', \n                         'Gondiya' : 'Gondia', \n                         'Bid' : 'Beed', \n                         'Buldana': 'Buldhana',\n                         'Jagitial' : 'Jagtial', \n                         'Jayashankar' : 'Jayashankar Bhupalapally', \n                         'Jangoan': 'Jangaon', \n                         'Kumuram Bheem Asifabad' : 'Komaram Bheem',\n                         'Y.S.R.': 'Y.S.R. Kadapa', \n                         'Sri Potti Sriramulu Nell*' : 'S.P.S. Nellore',\n                         'Bangalore' : 'Bengaluru Urban',\n                         'The Nilgiris': 'Nilgiris', \n                         'Kanniyakumari' : 'Kanyakumari',\n                         'North  & Middle Andaman': 'North and Middle Andaman',\n                         'Dadra & Nagar Haveli': 'Dadra and Nagar Haveli'},inplace = True)\n\nfor i in range(df1.shape[0]):\n        if df1['statename'][i] == 'Maharashtra' and df1['distname'][i] == 'Raigarh':\n            df1['distname'][i] = 'Raigad'            \n\n# Changing column name\ndf1 = df1.rename(columns={'distname': 'District', 'statename': 'State'})",
   "execution_count": null,
   "outputs": [
    {
     "name": "stderr",
     "text": "/shared-libs/python3.7/py-core/lib/python3.7/site-packages/ipykernel_launcher.py:82: SettingWithCopyWarning: \nA value is trying to be set on a copy of a slice from a DataFrame\n\nSee the caveats in the documentation: https://pandas.pydata.org/pandas-docs/stable/user_guide/indexing.html#returning-a-view-versus-a-copy\n",
     "output_type": "stream"
    }
   ]
  },
  {
   "cell_type": "markdown",
   "source": "### Data Preparation\n\nCreating a common dataframe with all data.<br>\nIn df1 (shapefile), we merged the covid19 patients data based on District and State, then the zones dataframe was similarly merged. Few unneccesary columns were also dropped",
   "metadata": {
    "cell_id": "00014-e0bf2036-8755-4212-9d30-ac3e2aecfe68",
    "deepnote_cell_type": "markdown"
   }
  },
  {
   "cell_type": "code",
   "metadata": {
    "scrolled": false,
    "cell_id": "00015-c1154661-e3e5-44fd-a3d8-29ca2c6bea7b",
    "deepnote_to_be_reexecuted": false,
    "source_hash": "234e1eef",
    "execution_start": 1621434039192,
    "execution_millis": 146,
    "deepnote_cell_type": "code"
   },
   "source": "newdf = df1.merge(districtdata[['State', 'District', 'Confirmed', 'Active', 'Recovered', 'Deceased']], on = ['District', 'State'])\nnewdf = newdf.merge(zones[['State', 'District', 'Zone']], on = ['District', 'State'])\nnewdf = newdf.drop(columns = ['statecode', 'state_ut', 'distcode', 'countrynam'])",
   "execution_count": null,
   "outputs": []
  },
  {
   "cell_type": "markdown",
   "source": "###  Importing advanced libraries",
   "metadata": {
    "cell_id": "00016-0dffaf7d-2fee-4ab1-ba2e-3ff08b62fb43",
    "deepnote_cell_type": "markdown"
   }
  },
  {
   "cell_type": "code",
   "metadata": {
    "cell_id": "00017-39c06e03-5ae2-481e-9f4c-2b0ba227ac1f",
    "deepnote_to_be_reexecuted": false,
    "source_hash": "1d2e7fd7",
    "execution_start": 1621434041601,
    "execution_millis": 8,
    "deepnote_cell_type": "code"
   },
   "source": "import json\nfrom bokeh.io import show\nfrom bokeh.io import output_file, save\nfrom bokeh.models import (CDSView, ColorBar, ColumnDataSource,\n                          CustomJS, CustomJSFilter, \n                          GeoJSONDataSource, HoverTool,\n                          CategoricalColorMapper, LinearColorMapper, Slider)\nfrom bokeh.layouts import column, row, widgetbox\nfrom bokeh.io import output_notebook\nfrom bokeh.plotting import figure",
   "execution_count": null,
   "outputs": []
  },
  {
   "cell_type": "markdown",
   "source": "#### Preparing to create the plot\n\nCreate GeoJSONDataSource object with our initial data",
   "metadata": {
    "cell_id": "00018-08d35d17-f21b-4234-8f3d-c67527db46b2",
    "deepnote_cell_type": "markdown"
   }
  },
  {
   "cell_type": "code",
   "metadata": {
    "cell_id": "00019-a3b7e400-dbe2-405e-8dad-cfb01d83810d",
    "deepnote_to_be_reexecuted": false,
    "source_hash": "7b0503a3",
    "execution_start": 1621434045012,
    "execution_millis": 23105,
    "deepnote_cell_type": "code"
   },
   "source": "geosource = GeoJSONDataSource(geojson = newdf.to_json())",
   "execution_count": null,
   "outputs": []
  },
  {
   "cell_type": "markdown",
   "source": "Define the color palette to use and mapping to categorical values of Zones",
   "metadata": {
    "cell_id": "00020-a563ab92-99fa-48f3-a22b-7414b66e5518",
    "deepnote_cell_type": "markdown"
   }
  },
  {
   "cell_type": "code",
   "metadata": {
    "cell_id": "00021-e1b1950b-53d9-46b3-ae5b-8b3083f893e3",
    "deepnote_to_be_reexecuted": false,
    "source_hash": "d3a05802",
    "execution_start": 1621434068129,
    "execution_millis": 23,
    "deepnote_cell_type": "code"
   },
   "source": "# Define color palette\npalette = ['red', 'orange', 'green']\n\ncolor_mapper = CategoricalColorMapper(palette = palette, factors = ['Red', 'Orange', 'Green'])\n",
   "execution_count": null,
   "outputs": []
  },
  {
   "cell_type": "markdown",
   "source": "### Choropleth Map",
   "metadata": {
    "cell_id": "00022-c8e7151d-6b6c-4502-8a71-80af093500e7",
    "deepnote_cell_type": "markdown"
   }
  },
  {
   "cell_type": "code",
   "metadata": {
    "cell_id": "00023-0f153db1-e1a4-4103-b61f-d3e235c939fb",
    "deepnote_to_be_reexecuted": false,
    "source_hash": "efaf280d",
    "execution_start": 1621434071426,
    "execution_millis": 6117,
    "deepnote_cell_type": "code"
   },
   "source": "# Create figure object.\np = figure(title = 'Red, Green and Orange Distric of Covid19:  May 2021',\n           plot_height = 700 ,\n           plot_width = 650, \n           toolbar_location = 'right',\n           tools = \"pan, wheel_zoom, box_zoom, reset\")\np.title.text_font_size = '12pt'\np.title.align = 'center'\n\np.xgrid.grid_line_color = None\np.ygrid.grid_line_color = None\n\n# Add patch renderer to figure.\nstates = p.patches('xs','ys', source = geosource,\n                   fill_color = {'field' :'Zone',\n                                 'transform' : color_mapper},\n                   line_color = 'black',\n                   line_width = 0.25, \n                   fill_alpha = 1)\n# Create hover tool\np.add_tools(HoverTool(renderers = [states],\n                      tooltips = [('District','@District'),\n                                  ('State','@State'),\n                                  ('Zone','@Zone'),\n                                  ('Confirmed cases','@Confirmed'),\n                                  ('Active cases','@Active'),\n                                  ('Recovered cases','@Recovered'),\n                                  ('Deaths','@Deceased')\n                                 ]))\n\noutput_file('plot.html', mode='inline')\nsave(p) # saves plot.html",
   "execution_count": null,
   "outputs": [
    {
     "output_type": "execute_result",
     "execution_count": 46,
     "data": {
      "text/plain": "'/work/plot.html'"
     },
     "metadata": {}
    }
   ]
  },
  {
   "cell_type": "markdown",
   "source": "Cool! Our choropleth map has been generated. A toolbox in the right could be used to zoom and move the map.",
   "metadata": {
    "cell_id": "00024-d3e1af24-4098-42ab-8ef9-3a119a526317",
    "deepnote_cell_type": "markdown"
   }
  },
  {
   "cell_type": "code",
   "metadata": {
    "cell_id": "00025-6786e7aa-d6a4-4152-9829-9e189ccb4513",
    "deepnote_to_be_reexecuted": false,
    "source_hash": "4208227e",
    "execution_start": 1621428915765,
    "execution_millis": 6383,
    "deepnote_cell_type": "code"
   },
   "source": "show(p, notebook_handle = True) # displays plot.html in browser",
   "execution_count": null,
   "outputs": []
  },
  {
   "cell_type": "markdown",
   "source": "Check out the video to see the output https://youtu.be/JuF4cNeWKzc ",
   "metadata": {
    "cell_id": "00026-b403f4c8-6f5a-431b-857a-3ac823139326",
    "deepnote_cell_type": "markdown"
   }
  },
  {
   "cell_type": "markdown",
   "source": "<a style='text-decoration:none;line-height:16px;display:flex;color:#5B5B62;padding:10px;justify-content:end;' href='https://deepnote.com?utm_source=created-in-deepnote-cell&projectId=7d20f0b1-a95e-4774-951b-ce52162787ce' target=\"_blank\">\n<img alt='Created in deepnote.com' style='display:inline;max-height:16px;margin:0px;margin-right:7.5px;' src='data:image/svg+xml;base64,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' > </img>\nCreated in <span style='font-weight:600;margin-left:4px;'>Deepnote</span></a>",
   "metadata": {
    "tags": [],
    "created_in_deepnote_cell": true,
    "deepnote_cell_type": "markdown"
   }
  }
 ],
 "nbformat": 4,
 "nbformat_minor": 4,
 "metadata": {
  "kernelspec": {
   "display_name": "Python 3",
   "language": "python",
   "name": "python3"
  },
  "language_info": {
   "codemirror_mode": {
    "name": "ipython",
    "version": 3
   },
   "file_extension": ".py",
   "mimetype": "text/x-python",
   "name": "python",
   "nbconvert_exporter": "python",
   "pygments_lexer": "ipython3",
   "version": "3.7.6"
  },
  "deepnote_notebook_id": "f16526ae-21de-404e-a901-5e90689c6704",
  "deepnote": {},
  "deepnote_execution_queue": []
 }
}